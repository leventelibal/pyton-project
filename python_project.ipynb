{
 "cells": [
  {
   "cell_type": "code",
   "execution_count": 1,
   "metadata": {},
   "outputs": [
    {
     "name": "stdout",
     "output_type": "stream",
     "text": [
      "hello\n"
     ]
    }
   ],
   "source": [
    "print('hello') "
   ]
  },
  {
   "cell_type": "code",
   "execution_count": 3,
   "metadata": {},
   "outputs": [
    {
     "data": {
      "text/plain": [
       "bool"
      ]
     },
     "execution_count": 3,
     "metadata": {},
     "output_type": "execute_result"
    }
   ],
   "source": [
    "var = True\n",
    "type(var)"
   ]
  },
  {
   "cell_type": "code",
   "execution_count": 5,
   "metadata": {},
   "outputs": [
    {
     "name": "stdout",
     "output_type": "stream",
     "text": [
      "ampl\n"
     ]
    }
   ],
   "source": [
    "mynum = 1996\n",
    "data = range(1, 10)\n",
    "mystring = 'example' \n",
    "\n",
    "print(mystring[2:6])\n"
   ]
  },
  {
   "cell_type": "code",
   "execution_count": 8,
   "metadata": {},
   "outputs": [
    {
     "name": "stdout",
     "output_type": "stream",
     "text": [
      "6\n"
     ]
    }
   ],
   "source": [
    "mynum = '1996' \n",
    "\n",
    "print(mynum[3])"
   ]
  },
  {
   "cell_type": "code",
   "execution_count": 9,
   "metadata": {},
   "outputs": [],
   "source": [
    "#bool str int float"
   ]
  },
  {
   "cell_type": "code",
   "execution_count": 10,
   "metadata": {},
   "outputs": [
    {
     "name": "stdout",
     "output_type": "stream",
     "text": [
      "Help on class range in module builtins:\n",
      "\n",
      "class range(object)\n",
      " |  range(stop) -> range object\n",
      " |  range(start, stop[, step]) -> range object\n",
      " |  \n",
      " |  Return an object that produces a sequence of integers from start (inclusive)\n",
      " |  to stop (exclusive) by step.  range(i, j) produces i, i+1, i+2, ..., j-1.\n",
      " |  start defaults to 0, and stop is omitted!  range(4) produces 0, 1, 2, 3.\n",
      " |  These are exactly the valid indices for a list of 4 elements.\n",
      " |  When step is given, it specifies the increment (or decrement).\n",
      " |  \n",
      " |  Methods defined here:\n",
      " |  \n",
      " |  __bool__(self, /)\n",
      " |      self != 0\n",
      " |  \n",
      " |  __contains__(self, key, /)\n",
      " |      Return key in self.\n",
      " |  \n",
      " |  __eq__(self, value, /)\n",
      " |      Return self==value.\n",
      " |  \n",
      " |  __ge__(self, value, /)\n",
      " |      Return self>=value.\n",
      " |  \n",
      " |  __getattribute__(self, name, /)\n",
      " |      Return getattr(self, name).\n",
      " |  \n",
      " |  __getitem__(self, key, /)\n",
      " |      Return self[key].\n",
      " |  \n",
      " |  __gt__(self, value, /)\n",
      " |      Return self>value.\n",
      " |  \n",
      " |  __hash__(self, /)\n",
      " |      Return hash(self).\n",
      " |  \n",
      " |  __iter__(self, /)\n",
      " |      Implement iter(self).\n",
      " |  \n",
      " |  __le__(self, value, /)\n",
      " |      Return self<=value.\n",
      " |  \n",
      " |  __len__(self, /)\n",
      " |      Return len(self).\n",
      " |  \n",
      " |  __lt__(self, value, /)\n",
      " |      Return self<value.\n",
      " |  \n",
      " |  __ne__(self, value, /)\n",
      " |      Return self!=value.\n",
      " |  \n",
      " |  __new__(*args, **kwargs) from builtins.type\n",
      " |      Create and return a new object.  See help(type) for accurate signature.\n",
      " |  \n",
      " |  __reduce__(...)\n",
      " |      helper for pickle\n",
      " |  \n",
      " |  __repr__(self, /)\n",
      " |      Return repr(self).\n",
      " |  \n",
      " |  __reversed__(...)\n",
      " |      Return a reverse iterator.\n",
      " |  \n",
      " |  count(...)\n",
      " |      rangeobject.count(value) -> integer -- return number of occurrences of value\n",
      " |  \n",
      " |  index(...)\n",
      " |      rangeobject.index(value, [start, [stop]]) -> integer -- return index of value.\n",
      " |      Raise ValueError if the value is not present.\n",
      " |  \n",
      " |  ----------------------------------------------------------------------\n",
      " |  Data descriptors defined here:\n",
      " |  \n",
      " |  start\n",
      " |  \n",
      " |  step\n",
      " |  \n",
      " |  stop\n",
      "\n"
     ]
    }
   ],
   "source": [
    "help(range)"
   ]
  },
  {
   "cell_type": "code",
   "execution_count": 14,
   "metadata": {},
   "outputs": [
    {
     "name": "stdout",
     "output_type": "stream",
     "text": [
      "['Abdul', 'Farkhod', 'Nodira', 'Anna']\n",
      "['Abdul', 'Farkhod', 'Nodira', 'Anna', 'example string']\n"
     ]
    }
   ],
   "source": [
    "users = ['Abdul']\n",
    "users.append('Farkhod')\n",
    "users.append('Nodira')\n",
    "users.append('Anna')\n",
    "print(users)\n",
    "\n",
    "users.append('example string')\n",
    "print(users)\n",
    "\n"
   ]
  },
  {
   "cell_type": "code",
   "execution_count": 18,
   "metadata": {},
   "outputs": [
    {
     "name": "stdout",
     "output_type": "stream",
     "text": [
      "['Abdul', 'Farkhod', 'Nodira', 'Anna', 'Anna', 'Anna']\n",
      "3\n"
     ]
    }
   ],
   "source": [
    "users = ['Abdul']\n",
    "users.append('Farkhod')\n",
    "users.append('Nodira')\n",
    "users.append('Anna')\n",
    "users.append('Anna')\n",
    "users.append('Anna')\n",
    "print(users)\n",
    "print(users.count('Anna'))\n",
    "#dir(users)"
   ]
  },
  {
   "cell_type": "code",
   "execution_count": 23,
   "metadata": {},
   "outputs": [
    {
     "name": "stdout",
     "output_type": "stream",
     "text": [
      "['Abdul', 'Farkhod', 'Nodira', 'Anna', 'Anna', 'Anna']\n",
      "['Abdul', 'Farkhod', 'Nodira', 'Anna', 'Anna']\n"
     ]
    }
   ],
   "source": [
    "users = ['Abdul']\n",
    "users.append('Farkhod')\n",
    "users.append('Nodira')\n",
    "users.append('Anna')\n",
    "users.append('Anna')\n",
    "users.append('Anna')\n",
    "print(users)\n",
    "#print(users.count('Anna'))\n",
    "#dir(users) show options \n",
    "#users.remove('Anna') remove the users\n",
    "#users.pop(2) removing 3 one \n",
    "print(users)"
   ]
  },
  {
   "cell_type": "code",
   "execution_count": 25,
   "metadata": {},
   "outputs": [
    {
     "name": "stdout",
     "output_type": "stream",
     "text": [
      "['Abdul', 'Farkhod', 'Nodira', 'Anna', 'Anna', 'Anna']\n",
      "['Abdul', 'Nodira', 'Anna', 'Anna', 'Anna']\n"
     ]
    }
   ],
   "source": [
    "users = ['Abdul']\n",
    "users.append('Farkhod')\n",
    "users.append('Nodira')\n",
    "users.append('Anna')\n",
    "users.append('Anna')\n",
    "users.append('Anna') #adding the user at the end \n",
    "print(users)\n",
    "foundIndex = users.index('Farkhod')# finding the index name \n",
    "users.pop(foundIndex) #removing the file \n",
    "print(users)"
   ]
  },
  {
   "cell_type": "code",
   "execution_count": 27,
   "metadata": {},
   "outputs": [
    {
     "name": "stdout",
     "output_type": "stream",
     "text": [
      "['Abdul', 'Farkhod', 'Nodira', 'Anna', 'Anna', 'Anna']\n",
      "['Abdul', 'user', 'Nodira', 'Anna', 'Anna', 'Anna']\n"
     ]
    }
   ],
   "source": [
    "users = ['Abdul']\n",
    "users.append('Farkhod')\n",
    "users.append('Nodira')\n",
    "users.append('Anna')\n",
    "users.append('Anna')\n",
    "users.append('Anna') #adding the user at the end \n",
    "print(users)\n",
    "foundIndex = users.index('Farkhod')# finding the index name \n",
    "users.pop(foundIndex) #removing the file \n",
    "users.insert(1, 'user') # insert the user certain location\n",
    "print(users)"
   ]
  },
  {
   "cell_type": "code",
   "execution_count": 33,
   "metadata": {},
   "outputs": [
    {
     "name": "stdout",
     "output_type": "stream",
     "text": [
      "{'type': 'Fruit', 'color': 'orange', 'count': 1}\n",
      "dict_values(['Fruit', 'orange', 1])\n"
     ]
    }
   ],
   "source": [
    "mydict = {'type' : 'Fruit' , 'color' : 'orange'}\n",
    "mydict['count'] = 1\n",
    "print(mydict)\n",
    "mylist = mydict.values()\n",
    "print(mylist)"
   ]
  },
  {
   "cell_type": "code",
   "execution_count": 36,
   "metadata": {},
   "outputs": [
    {
     "ename": "TypeError",
     "evalue": "must be str, not list",
     "output_type": "error",
     "traceback": [
      "\u001b[0;31m---------------------------------------------------------------------------\u001b[0m",
      "\u001b[0;31mTypeError\u001b[0m                                 Traceback (most recent call last)",
      "\u001b[0;32m<ipython-input-36-0ff5a0d3980c>\u001b[0m in \u001b[0;36m<module>\u001b[0;34m\u001b[0m\n\u001b[1;32m      2\u001b[0m \u001b[0;34m\u001b[0m\u001b[0m\n\u001b[1;32m      3\u001b[0m \u001b[0;34m\u001b[0m\u001b[0m\n\u001b[0;32m----> 4\u001b[0;31m \u001b[0mprint\u001b[0m\u001b[0;34m(\u001b[0m\u001b[0mmydict\u001b[0m\u001b[0;34m[\u001b[0m\u001b[0;34m'color'\u001b[0m\u001b[0;34m]\u001b[0m\u001b[0;34m+\u001b[0m \u001b[0;34m''\u001b[0m \u001b[0;34m+\u001b[0m \u001b[0;34m[\u001b[0m\u001b[0;34m'type'\u001b[0m\u001b[0;34m]\u001b[0m\u001b[0;34m)\u001b[0m\u001b[0;34m\u001b[0m\u001b[0m\n\u001b[0m",
      "\u001b[0;31mTypeError\u001b[0m: must be str, not list"
     ]
    }
   ],
   "source": [
    "mydict = {'type' : 'Fruit' , 'color' : 'orange'}\n",
    "\n",
    "\n",
    "print(mydict['color']+ '' + ['type'])"
   ]
  },
  {
   "cell_type": "code",
   "execution_count": 37,
   "metadata": {},
   "outputs": [
    {
     "name": "stdout",
     "output_type": "stream",
     "text": [
      "{'type': 'Fruit', 'color': 'Red', 'count': 1}\n"
     ]
    }
   ],
   "source": [
    "mydict = {'type' : 'Fruit' , 'color' : 'orange'}\n",
    "\n",
    "mydict['color'] = 'Red'\n",
    "mydict['count'] = 1\n",
    "print(mydict)"
   ]
  },
  {
   "cell_type": "code",
   "execution_count": 39,
   "metadata": {},
   "outputs": [
    {
     "name": "stdout",
     "output_type": "stream",
     "text": [
      "dict_keys(['type', 'color', 'count'])\n",
      "dict_values(['Fruit', 'Red', 1])\n"
     ]
    },
    {
     "data": {
      "text/plain": [
       "['__class__',\n",
       " '__contains__',\n",
       " '__delattr__',\n",
       " '__delitem__',\n",
       " '__dir__',\n",
       " '__doc__',\n",
       " '__eq__',\n",
       " '__format__',\n",
       " '__ge__',\n",
       " '__getattribute__',\n",
       " '__getitem__',\n",
       " '__gt__',\n",
       " '__hash__',\n",
       " '__init__',\n",
       " '__init_subclass__',\n",
       " '__iter__',\n",
       " '__le__',\n",
       " '__len__',\n",
       " '__lt__',\n",
       " '__ne__',\n",
       " '__new__',\n",
       " '__reduce__',\n",
       " '__reduce_ex__',\n",
       " '__repr__',\n",
       " '__setattr__',\n",
       " '__setitem__',\n",
       " '__sizeof__',\n",
       " '__str__',\n",
       " '__subclasshook__',\n",
       " 'clear',\n",
       " 'copy',\n",
       " 'fromkeys',\n",
       " 'get',\n",
       " 'items',\n",
       " 'keys',\n",
       " 'pop',\n",
       " 'popitem',\n",
       " 'setdefault',\n",
       " 'update',\n",
       " 'values']"
      ]
     },
     "execution_count": 39,
     "metadata": {},
     "output_type": "execute_result"
    }
   ],
   "source": [
    "mydict = {'type' : 'Fruit' , 'color' : 'orange'}\n",
    "\n",
    "mydict['color'] = 'Red'\n",
    "mydict['count'] = 1\n",
    "print(mydict.keys())\n",
    "print(mydict.values())\n",
    "dir(mydict)\n"
   ]
  },
  {
   "cell_type": "code",
   "execution_count": 40,
   "metadata": {},
   "outputs": [
    {
     "name": "stdout",
     "output_type": "stream",
     "text": [
      "dict_keys(['type', 'color', 'count'])\n",
      "dict_values(['Fruit', 'Red', 1])\n",
      "{'username': 'levent', 'firstname': 'Levent', 'lastname': 'Elibal'}\n"
     ]
    }
   ],
   "source": [
    "mydict = {'type' : 'Fruit' , 'color' : 'orange'}\n",
    "\n",
    "mydict['color'] = 'Red'\n",
    "mydict['count'] = 1\n",
    "\n",
    "# mylist = ['data1' , 'data2' , 'data3' ]\n",
    "\n",
    "print(mydict.keys())\n",
    "print(mydict.values())\n",
    "\n",
    "user = dict(username='levent', firstname='Levent' , lastname='Elibal' )\n",
    "\n",
    "\n",
    "print(user)\n"
   ]
  },
  {
   "cell_type": "code",
   "execution_count": null,
   "metadata": {},
   "outputs": [],
   "source": []
  }
 ],
 "metadata": {
  "kernelspec": {
   "display_name": "Python 3",
   "language": "python",
   "name": "python3"
  },
  "language_info": {
   "codemirror_mode": {
    "name": "ipython",
    "version": 3
   },
   "file_extension": ".py",
   "mimetype": "text/x-python",
   "name": "python",
   "nbconvert_exporter": "python",
   "pygments_lexer": "ipython3",
   "version": "3.6.5"
  }
 },
 "nbformat": 4,
 "nbformat_minor": 2
}
