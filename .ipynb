{
 "cells": [
  {
   "cell_type": "code",
   "execution_count": 2,
   "metadata": {},
   "outputs": [
    {
     "name": "stdout",
     "output_type": "stream",
     "text": [
      "abdul\n",
      "nodira\n",
      "zhanna\n"
     ]
    }
   ],
   "source": [
    "users = ['abdul', 'nodira' , 'zhanna']\n",
    "\n",
    "for user in users:\n",
    "    print(user)\n",
    "    "
   ]
  },
  {
   "cell_type": "code",
   "execution_count": 3,
   "metadata": {},
   "outputs": [
    {
     "name": "stdout",
     "output_type": "stream",
     "text": [
      "hello\n",
      "hello\n",
      "hello\n"
     ]
    }
   ],
   "source": [
    "users = ['abdul', 'nodira' , 'zhanna']\n",
    "\n",
    "for item in range(0, 3):\n",
    "    print('hello')"
   ]
  },
  {
   "cell_type": "code",
   "execution_count": 4,
   "metadata": {},
   "outputs": [
    {
     "name": "stdout",
     "output_type": "stream",
     "text": [
      "0 hello\n",
      "1 hello\n",
      "2 hello\n"
     ]
    }
   ],
   "source": [
    "users = ['abdul', 'nodira' , 'zhanna']\n",
    "\n",
    "for number in range(0, 3):\n",
    "    print(number, 'hello')"
   ]
  },
  {
   "cell_type": "code",
   "execution_count": 6,
   "metadata": {},
   "outputs": [
    {
     "name": "stdout",
     "output_type": "stream",
     "text": [
      "1 hello\n",
      "2 hello\n",
      "3 hello\n",
      "[{'avatar': 'https://s3.amazonaws.com/uifaces/faces/twitter/marcoramires/128.jpg', 'first_name': 'Eve', 'id': 4, 'last_name': 'Holt'}, {'avatar': 'https://s3.amazonaws.com/uifaces/faces/twitter/stephenmoon/128.jpg', 'first_name': 'Charles', 'id': 5, 'last_name': 'Morris'}, {'avatar': 'https://s3.amazonaws.com/uifaces/faces/twitter/bigmancho/128.jpg', 'first_name': 'Tracey', 'id': 6, 'last_name': 'Ramos'}]\n"
     ]
    }
   ],
   "source": [
    "users = ['abdul', 'nodira' , 'zhanna']\n",
    "\n",
    "for number in range(1, 4):\n",
    "    print(number, 'hello')\n",
    "data = [\n",
    "    {\n",
    "    \"avatar\": \"https://s3.amazonaws.com/uifaces/faces/twitter/marcoramires/128.jpg\",\n",
    "    \"first_name\": \"Eve\",\n",
    "    \"id\": 4,\n",
    "    \"last_name\": \"Holt\"\n",
    "    },\n",
    "    {\n",
    "    \"avatar\": \"https://s3.amazonaws.com/uifaces/faces/twitter/stephenmoon/128.jpg\",\n",
    "    \"first_name\": \"Charles\",\n",
    "    \"id\": 5,\n",
    "    \"last_name\": \"Morris\"\n",
    "    },\n",
    "    {\n",
    "    \"avatar\": \"https://s3.amazonaws.com/uifaces/faces/twitter/bigmancho/128.jpg\",\n",
    "    \"first_name\": \"Tracey\",\n",
    "    \"id\": 6,\n",
    "    \"last_name\": \"Ramos\"\n",
    "    }\n",
    "]\n",
    "print(data)"
   ]
  },
  {
   "cell_type": "code",
   "execution_count": 9,
   "metadata": {},
   "outputs": [
    {
     "name": "stdout",
     "output_type": "stream",
     "text": [
      "{'avatar': 'https://s3.amazonaws.com/uifaces/faces/twitter/marcoramires/128.jpg', 'first_name': 'Eve', 'id': 4, 'last_name': 'Holt'}\n"
     ]
    }
   ],
   "source": [
    "users = ['abdul', 'nodira' , 'zhanna']\n",
    "\n",
    "#for number in range(1, 4):\n",
    "  #  print(number, 'hello')\n",
    "data = [\n",
    "    {\n",
    "    \"avatar\": \"https://s3.amazonaws.com/uifaces/faces/twitter/marcoramires/128.jpg\",\n",
    "    \"first_name\": \"Eve\",\n",
    "    \"id\": 4,\n",
    "    \"last_name\": \"Holt\"\n",
    "    },\n",
    "    {\n",
    "    \"avatar\": \"https://s3.amazonaws.com/uifaces/faces/twitter/stephenmoon/128.jpg\",\n",
    "    \"first_name\": \"Charles\",\n",
    "    \"id\": 5,\n",
    "    \"last_name\": \"Morris\"\n",
    "    },\n",
    "    {\n",
    "    \"avatar\": \"https://s3.amazonaws.com/uifaces/faces/twitter/bigmancho/128.jpg\",\n",
    "    \"first_name\": \"Tracey\",\n",
    "    \"id\": 6,\n",
    "    \"last_name\": \"Ramos\"\n",
    "    }\n",
    "]\n",
    "print(data[0])"
   ]
  },
  {
   "cell_type": "code",
   "execution_count": 13,
   "metadata": {},
   "outputs": [
    {
     "name": "stdout",
     "output_type": "stream",
     "text": [
      "{'avatar': 'https://s3.amazonaws.com/uifaces/faces/twitter/marcoramires/128.jpg', 'first_name': 'Eve', 'id': 4, 'last_name': 'Holt'}\n",
      "{'avatar': 'https://s3.amazonaws.com/uifaces/faces/twitter/stephenmoon/128.jpg', 'first_name': 'Charles', 'id': 5, 'last_name': 'Morris'}\n",
      "{'avatar': 'https://s3.amazonaws.com/uifaces/faces/twitter/bigmancho/128.jpg', 'first_name': 'Tracey', 'id': 6, 'last_name': 'Ramos'}\n"
     ]
    }
   ],
   "source": [
    "users = ['abdul', 'nodira' , 'zhanna']\n",
    "\n",
    "#for number in range(1, 4):\n",
    "  #  print(number, 'hello')\n",
    "data = [\n",
    "    {\n",
    "    \"avatar\": \"https://s3.amazonaws.com/uifaces/faces/twitter/marcoramires/128.jpg\",\n",
    "    \"first_name\": \"Eve\",\n",
    "    \"id\": 4,\n",
    "    \"last_name\": \"Holt\"\n",
    "    },\n",
    "    {\n",
    "    \"avatar\": \"https://s3.amazonaws.com/uifaces/faces/twitter/stephenmoon/128.jpg\",\n",
    "    \"first_name\": \"Charles\",\n",
    "    \"id\": 5,\n",
    "    \"last_name\": \"Morris\"\n",
    "    },\n",
    "    {\n",
    "    \"avatar\": \"https://s3.amazonaws.com/uifaces/faces/twitter/bigmancho/128.jpg\",\n",
    "    \"first_name\": \"Tracey\",\n",
    "    \"id\": 6,\n",
    "    \"last_name\": \"Ramos\"\n",
    "    }\n",
    "]\n",
    "for user in data:\n",
    "    print(user)"
   ]
  },
  {
   "cell_type": "code",
   "execution_count": 15,
   "metadata": {},
   "outputs": [
    {
     "name": "stdout",
     "output_type": "stream",
     "text": [
      "{'avatar': 'https://s3.amazonaws.com/uifaces/faces/twitter/stephenmoon/128.jpg', 'first_name': 'Charles', 'id': 5, 'last_name': 'Morris'}\n"
     ]
    }
   ],
   "source": [
    "users = ['abdul', 'nodira' , 'zhanna']\n",
    "\n",
    "#for number in range(1, 4):\n",
    "  #  print(number, 'hello')\n",
    "data = [\n",
    "    {\n",
    "    \"avatar\": \"https://s3.amazonaws.com/uifaces/faces/twitter/marcoramires/128.jpg\",\n",
    "    \"first_name\": \"Eve\",\n",
    "    \"id\": 4,\n",
    "    \"last_name\": \"Holt\"\n",
    "    },\n",
    "    {\n",
    "    \"avatar\": \"https://s3.amazonaws.com/uifaces/faces/twitter/stephenmoon/128.jpg\",\n",
    "    \"first_name\": \"Charles\",\n",
    "    \"id\": 5,\n",
    "    \"last_name\": \"Morris\"\n",
    "    },\n",
    "    {\n",
    "    \"avatar\": \"https://s3.amazonaws.com/uifaces/faces/twitter/bigmancho/128.jpg\",\n",
    "    \"first_name\": \"Tracey\",\n",
    "    \"id\": 6,\n",
    "    \"last_name\": \"Ramos\"\n",
    "    }\n",
    "]\n",
    "#for user in data:\n",
    "#    if user['first_name'] == 'Charles':\n",
    "#        print(user)\n",
    "while True:\n",
    "    print('hello')\n",
    "    break"
   ]
  },
  {
   "cell_type": "code",
   "execution_count": 18,
   "metadata": {},
   "outputs": [
    {
     "name": "stdout",
     "output_type": "stream",
     "text": [
      "This is my string\n",
      "T\n",
      "h\n",
      "i\n",
      "s\n",
      " \n",
      "i\n",
      "s\n",
      " \n",
      "m\n",
      "y\n",
      " \n",
      "s\n",
      "t\n",
      "r\n",
      "i\n",
      "n\n",
      "g\n",
      "Yes it is\n"
     ]
    }
   ],
   "source": [
    "my_string = 'This is my string'\n",
    "print(my_string)\n",
    "\n",
    "for item in my_string:\n",
    "    print(item)\n",
    "    \n",
    "    \n",
    "    \n",
    "if 'This' in my_string:\n",
    "    print('Yes it is')\n",
    "\n"
   ]
  },
  {
   "cell_type": "code",
   "execution_count": 19,
   "metadata": {},
   "outputs": [
    {
     "name": "stdout",
     "output_type": "stream",
     "text": [
      "This is my string\n",
      "This\n",
      "is\n",
      "my\n",
      "string\n",
      "Yes it is\n"
     ]
    }
   ],
   "source": [
    "my_string = 'This is my string'\n",
    "print(my_string)\n",
    "\n",
    "for item in my_string.split(' '):\n",
    "    print(item)\n",
    "    \n",
    "    \n",
    "    \n",
    "if 'This' in my_string:\n",
    "    print('Yes it is')"
   ]
  },
  {
   "cell_type": "code",
   "execution_count": 21,
   "metadata": {},
   "outputs": [
    {
     "name": "stdout",
     "output_type": "stream",
     "text": [
      "anna\n",
      "zhanna\n",
      "abdul\n",
      "alibek\n"
     ]
    }
   ],
   "source": [
    "import os\n",
    "users =['anna', 'zhanna', 'abdul', 'alibek']\n",
    "for user in users:\n",
    "    print(user)\n",
    "    os.system(f'mkdir /{user}')"
   ]
  },
  {
   "cell_type": "code",
   "execution_count": 22,
   "metadata": {},
   "outputs": [
    {
     "name": "stdout",
     "output_type": "stream",
     "text": [
      "anna\n",
      "zhanna\n",
      "abdul\n",
      "alibek\n"
     ]
    }
   ],
   "source": [
    "import os\n",
    "users =['anna', 'zhanna', 'abdul', 'alibek']\n",
    "for user in users:\n",
    "    print(user)\n",
    "    os.system(f'useradd /{user}')\n",
    "    "
   ]
  },
  {
   "cell_type": "code",
   "execution_count": 23,
   "metadata": {},
   "outputs": [
    {
     "name": "stdout",
     "output_type": "stream",
     "text": [
      "root:x:0:0:root:/root:/bin/bash\r\n",
      "bin:x:1:1:bin:/bin:/sbin/nologin\r\n",
      "daemon:x:2:2:daemon:/sbin:/sbin/nologin\r\n",
      "adm:x:3:4:adm:/var/adm:/sbin/nologin\r\n",
      "lp:x:4:7:lp:/var/spool/lpd:/sbin/nologin\r\n",
      "sync:x:5:0:sync:/sbin:/bin/sync\r\n",
      "shutdown:x:6:0:shutdown:/sbin:/sbin/shutdown\r\n",
      "halt:x:7:0:halt:/sbin:/sbin/halt\r\n",
      "mail:x:8:12:mail:/var/spool/mail:/sbin/nologin\r\n",
      "operator:x:11:0:operator:/root:/sbin/nologin\r\n",
      "games:x:12:100:games:/usr/games:/sbin/nologin\r\n",
      "ftp:x:14:50:FTP User:/var/ftp:/sbin/nologin\r\n",
      "nobody:x:99:99:Nobody:/:/sbin/nologin\r\n",
      "systemd-network:x:192:192:systemd Network Management:/:/sbin/nologin\r\n",
      "dbus:x:81:81:System message bus:/:/sbin/nologin\r\n"
     ]
    }
   ],
   "source": [
    "cat /etc/passwd"
   ]
  },
  {
   "cell_type": "code",
   "execution_count": 24,
   "metadata": {},
   "outputs": [
    {
     "name": "stdout",
     "output_type": "stream",
     "text": [
      "anna\n",
      "zhanna\n",
      "abdul\n",
      "alibek\n"
     ]
    }
   ],
   "source": [
    "import os\n",
    "users =['anna', 'zhanna', 'abdul', 'alibek']\n",
    "for user in users:\n",
    "    print(user)\n",
    "    os.system(f'useradd /{user}')"
   ]
  },
  {
   "cell_type": "code",
   "execution_count": 25,
   "metadata": {},
   "outputs": [
    {
     "name": "stdout",
     "output_type": "stream",
     "text": [
      "root:x:0:0:root:/root:/bin/bash\r\n",
      "bin:x:1:1:bin:/bin:/sbin/nologin\r\n",
      "daemon:x:2:2:daemon:/sbin:/sbin/nologin\r\n",
      "adm:x:3:4:adm:/var/adm:/sbin/nologin\r\n",
      "lp:x:4:7:lp:/var/spool/lpd:/sbin/nologin\r\n",
      "sync:x:5:0:sync:/sbin:/bin/sync\r\n",
      "shutdown:x:6:0:shutdown:/sbin:/sbin/shutdown\r\n",
      "halt:x:7:0:halt:/sbin:/sbin/halt\r\n",
      "mail:x:8:12:mail:/var/spool/mail:/sbin/nologin\r\n",
      "operator:x:11:0:operator:/root:/sbin/nologin\r\n",
      "games:x:12:100:games:/usr/games:/sbin/nologin\r\n",
      "ftp:x:14:50:FTP User:/var/ftp:/sbin/nologin\r\n",
      "nobody:x:99:99:Nobody:/:/sbin/nologin\r\n",
      "systemd-network:x:192:192:systemd Network Management:/:/sbin/nologin\r\n",
      "dbus:x:81:81:System message bus:/:/sbin/nologin\r\n"
     ]
    }
   ],
   "source": [
    "cat /etc/passwd"
   ]
  },
  {
   "cell_type": "code",
   "execution_count": 26,
   "metadata": {},
   "outputs": [
    {
     "name": "stdout",
     "output_type": "stream",
     "text": [
      "Anna\n",
      "Zhanna\n",
      "Abdul\n",
      "Alibek\n"
     ]
    }
   ],
   "source": [
    "import os\n",
    "users = ['Anna', 'Zhanna', 'Abdul', 'Alibek']\n",
    "my_pub_key = 'ssh-rsa AAAAB3NzaC1yc2EAAAADAQABAAABAQDHThalyM3uM5TWKttnQUL3eRfEOK4TnFkuHlIL7UXNn34PwnPYULJukewmzk4IE+PNl/flS+PC6SJyQ3zcYUufDRZihvOvkvuTEHCNoN5fkKPASCRiwIyXZoYKGxFG6r0r9bsDtleuVL94Li9fhi5QOakUHwC74+GxoFKYBXvybdDIuCV1F2PQ38wkdDUTCoRxX1P8yTzSeN9VSIROxYrR7DdQw5dd1sVfOJgO0QckFSXoBIv09f66zBQE9D6AbQwi63EPfYInMTxLgHagraRROnYx0IezwQUrd2X/OQEpqGu7/rAIiqru0V4+JKDoPD0Ydl1c0OzTJELY8ZxIX1zh fsadykov@Fs-MacBook-Pro.local'\n",
    "for user in users:\n",
    "    print(user)\n",
    "    os.system(f'useradd {user}')\n",
    "    os.system(f'mkdir  /home/{user}/.ssh')\n",
    "    os.system(f'echo {my_pub_key}  >>  /home/{user}/.ssh/authorized_keys')"
   ]
  },
  {
   "cell_type": "code",
   "execution_count": 27,
   "metadata": {},
   "outputs": [
    {
     "name": "stdout",
     "output_type": "stream",
     "text": [
      "root:x:0:0:root:/root:/bin/bash\r\n",
      "bin:x:1:1:bin:/bin:/sbin/nologin\r\n",
      "daemon:x:2:2:daemon:/sbin:/sbin/nologin\r\n",
      "adm:x:3:4:adm:/var/adm:/sbin/nologin\r\n",
      "lp:x:4:7:lp:/var/spool/lpd:/sbin/nologin\r\n",
      "sync:x:5:0:sync:/sbin:/bin/sync\r\n",
      "shutdown:x:6:0:shutdown:/sbin:/sbin/shutdown\r\n",
      "halt:x:7:0:halt:/sbin:/sbin/halt\r\n",
      "mail:x:8:12:mail:/var/spool/mail:/sbin/nologin\r\n",
      "operator:x:11:0:operator:/root:/sbin/nologin\r\n",
      "games:x:12:100:games:/usr/games:/sbin/nologin\r\n",
      "ftp:x:14:50:FTP User:/var/ftp:/sbin/nologin\r\n",
      "nobody:x:99:99:Nobody:/:/sbin/nologin\r\n",
      "systemd-network:x:192:192:systemd Network Management:/:/sbin/nologin\r\n",
      "dbus:x:81:81:System message bus:/:/sbin/nologin\r\n",
      "Anna:x:1000:1000::/home/Anna:/bin/bash\r\n",
      "Zhanna:x:1001:1001::/home/Zhanna:/bin/bash\r\n",
      "Abdul:x:1002:1002::/home/Abdul:/bin/bash\r\n",
      "Alibek:x:1003:1003::/home/Alibek:/bin/bash\r\n"
     ]
    }
   ],
   "source": [
    "cat /etc/passwd"
   ]
  },
  {
   "cell_type": "code",
   "execution_count": 28,
   "metadata": {},
   "outputs": [
    {
     "name": "stdout",
     "output_type": "stream",
     "text": [
      "User can not found\n"
     ]
    }
   ],
   "source": [
    "for user in data:\n",
    "    if 'Farkhod' == user['first_name']:\n",
    "        print('User found')\n",
    "else:\n",
    "    print('User can not found')"
   ]
  },
  {
   "cell_type": "code",
   "execution_count": 37,
   "metadata": {},
   "outputs": [
    {
     "name": "stdout",
     "output_type": "stream",
     "text": [
      "##  abdul\n",
      "python\n",
      "jenkins\n",
      "ansible\n"
     ]
    }
   ],
   "source": [
    "student = {'username' : ' abdul' , \n",
    "           'password' : 'redhat' ,\n",
    "          'classes': ['python', 'jenkins', 'ansible'] }\n",
    "print(f'## {student[\"username\"]}')\n",
    "for item in student['classes']:\n",
    "    print(item)"
   ]
  },
  {
   "cell_type": "code",
   "execution_count": null,
   "metadata": {},
   "outputs": [],
   "source": [
    "dataBase = []\n",
    "import time\n",
    "yesAnswer = ['YES', 'Yes', 'y', 'Y', 'YeS', 'yes']\n",
    "while True:\n",
    "    studentobject = {}\n",
    "    studentobject['full_name'] = input ('please enter Full Name :') \n",
    "    studentobject['username'] = input ('please enter username :')\n",
    "    studentobject['password'] = input ('please enter password :') \n",
    "    time.sleep(2)\n",
    "    dataBase.append(studentobject)\n",
    "    print('user has been created!')\n",
    "    answer = input('Do you want to stop it yes/no:')\n",
    "    if answer in yesAnswer:\n",
    "        print('bye !!!')\n",
    "        break\n",
    "    print (database)"
   ]
  },
  {
   "cell_type": "code",
   "execution_count": null,
   "metadata": {},
   "outputs": [],
   "source": [
    "git add . && git commit \" created new if loop and others\" && git push origin master"
   ]
  },
  {
   "cell_type": "code",
   "execution_count": null,
   "metadata": {},
   "outputs": [],
   "source": [
    "git add ."
   ]
  },
  {
   "cell_type": "code",
   "execution_count": null,
   "metadata": {},
   "outputs": [],
   "source": [
    "git commit \" created new if loop and others\""
   ]
  },
  {
   "cell_type": "code",
   "execution_count": null,
   "metadata": {},
   "outputs": [],
   "source": [
    "git push origin master"
   ]
  },
  {
   "cell_type": "code",
   "execution_count": null,
   "metadata": {},
   "outputs": [],
   "source": []
  }
 ],
 "metadata": {
  "kernelspec": {
   "display_name": "Python 3",
   "language": "python",
   "name": "python3"
  },
  "language_info": {
   "codemirror_mode": {
    "name": "ipython",
    "version": 3
   },
   "file_extension": ".py",
   "mimetype": "text/x-python",
   "name": "python",
   "nbconvert_exporter": "python",
   "pygments_lexer": "ipython3",
   "version": "3.6.5"
  }
 },
 "nbformat": 4,
 "nbformat_minor": 2
}
