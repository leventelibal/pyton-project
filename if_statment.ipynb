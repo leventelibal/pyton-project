{
 "cells": [
  {
   "cell_type": "code",
   "execution_count": 1,
   "metadata": {},
   "outputs": [
    {
     "name": "stdout",
     "output_type": "stream",
     "text": [
      "yes, you can go!!!\n"
     ]
    }
   ],
   "source": [
    "door = 'open'\n",
    "if door == 'open':\n",
    "    print ('yes, you can go!!!')\n",
    "elif door == 'close':\n",
    "    print ('No, you can not go!!!')"
   ]
  },
  {
   "cell_type": "code",
   "execution_count": 2,
   "metadata": {},
   "outputs": [
    {
     "name": "stdout",
     "output_type": "stream",
     "text": [
      "No, you can not go!!!\n"
     ]
    }
   ],
   "source": [
    "door = 'dsdfds'\n",
    "if door == 'open':\n",
    "    print ('yes, you can go!!!')\n",
    "else:\n",
    "    print ('No, you can not go!!!')\n",
    "#elif door == 'close':\n",
    " #   print ('No, you can not go!!!')"
   ]
  },
  {
   "cell_type": "code",
   "execution_count": 3,
   "metadata": {},
   "outputs": [
    {
     "ename": "SyntaxError",
     "evalue": "invalid syntax (<ipython-input-3-3f2eacca3e80>, line 9)",
     "output_type": "error",
     "traceback": [
      "\u001b[0;36m  File \u001b[0;32m\"<ipython-input-3-3f2eacca3e80>\"\u001b[0;36m, line \u001b[0;32m9\u001b[0m\n\u001b[0;31m    elif door == 'close' :\u001b[0m\n\u001b[0m       ^\u001b[0m\n\u001b[0;31mSyntaxError\u001b[0m\u001b[0;31m:\u001b[0m invalid syntax\n"
     ]
    }
   ],
   "source": [
    "door = 'dsdfds'\n",
    "if door == 'open':\n",
    "    print ('yes, you can go!!!')\n",
    "    \n",
    "else:\n",
    "    print ('something wrong')\n",
    "    \n",
    "    \n",
    "elif door == 'close' :\n",
    "    print ('No, you can not go!!!')"
   ]
  },
  {
   "cell_type": "code",
   "execution_count": null,
   "metadata": {},
   "outputs": [],
   "source": [
    "name = input('what is your name? :')"
   ]
  },
  {
   "cell_type": "code",
   "execution_count": null,
   "metadata": {},
   "outputs": [],
   "source": [
    "print(name)\n"
   ]
  },
  {
   "cell_type": "code",
   "execution_count": null,
   "metadata": {},
   "outputs": [],
   "source": [
    "name = input('what is your name? :')\n",
    "\n",
    "if name == 'Anna':\n",
    "    print('privet ' +name)\n",
    "    \n",
    "print( 'Hello ' + name )"
   ]
  },
  {
   "cell_type": "code",
   "execution_count": null,
   "metadata": {},
   "outputs": [],
   "source": [
    "name = input('what is your name? :')\n",
    "\n",
    "print( ' Hello ' + name )"
   ]
  },
  {
   "cell_type": "code",
   "execution_count": null,
   "metadata": {},
   "outputs": [],
   "source": [
    "name = input('what is your name? :')\n",
    "\n",
    "if name == 'Anna':\n",
    "    print('privet ' +name)\n",
    "elif name == 'Levent':    \n",
    "    print('Salom ' + name)\n",
    "else:\n",
    "    print( 'Hello ' + name )\n",
    "    "
   ]
  },
  {
   "cell_type": "code",
   "execution_count": null,
   "metadata": {},
   "outputs": [],
   "source": [
    "name = input('what is your name? :')\n",
    "name = name.capitalize\n",
    "\n",
    "if name == 'Anna':\n",
    "    print('privet ' + name)\n",
    "elif name == 'Levent':    \n",
    "    print('Salom ' + name)\n",
    "else:\n",
    "    print('Hello ' + name)"
   ]
  },
  {
   "cell_type": "code",
   "execution_count": 7,
   "metadata": {},
   "outputs": [
    {
     "name": "stdout",
     "output_type": "stream",
     "text": [
      "What is your name? :abdul\n",
      "Hello come in\n"
     ]
    }
   ],
   "source": [
    "black_list = ['abdul', 'Farkhod', 'Florin']\n",
    "student = input('What is your name? :')\n",
    "#student = 'farkhod'\n",
    "student = student.capitalize()\n",
    "\n",
    "if student in black_list:\n",
    "    print('Sorry you can not come in')\n",
    "else:\n",
    "    print('Hello come in')"
   ]
  },
  {
   "cell_type": "code",
   "execution_count": 8,
   "metadata": {},
   "outputs": [
    {
     "name": "stdout",
     "output_type": "stream",
     "text": [
      "What is your name? :test\n",
      "Test\n"
     ]
    }
   ],
   "source": [
    "name = input('What is your name? :').capitalize()\n",
    "print(name)\n"
   ]
  },
  {
   "cell_type": "code",
   "execution_count": 11,
   "metadata": {},
   "outputs": [
    {
     "name": "stdout",
     "output_type": "stream",
     "text": [
      "What is your name? :levent\n",
      "what is your birthday <year>? :1980\n",
      "your name is :Levent, Your age is :39\n"
     ]
    },
    {
     "data": {
      "text/plain": [
       "int"
      ]
     },
     "execution_count": 11,
     "metadata": {},
     "output_type": "execute_result"
    }
   ],
   "source": [
    "name = input('What is your name? :').capitalize()\n",
    "year = int(input('what is your birthday <year>? :'))\n",
    "now = 2019\n",
    "age = now - year\n",
    "print(f'your name is :{name}, Your age is :{age}')\n",
    "type(year)"
   ]
  },
  {
   "cell_type": "code",
   "execution_count": 17,
   "metadata": {},
   "outputs": [
    {
     "name": "stdout",
     "output_type": "stream",
     "text": [
      "sorry door closed\n"
     ]
    }
   ],
   "source": [
    "door = False\n",
    "\n",
    "if door:\n",
    "    print('please come in')\n",
    "    \n",
    "else:\n",
    "    print('sorry door closed')"
   ]
  },
  {
   "cell_type": "code",
   "execution_count": 30,
   "metadata": {},
   "outputs": [
    {
     "ename": "SyntaxError",
     "evalue": "invalid syntax (<ipython-input-30-b2d2806ba004>, line 21)",
     "output_type": "error",
     "traceback": [
      "\u001b[0;36m  File \u001b[0;32m\"<ipython-input-30-b2d2806ba004>\"\u001b[0;36m, line \u001b[0;32m21\u001b[0m\n\u001b[0;31m    if 'terraform' in student['classes']\u001b[0m\n\u001b[0m                                        ^\u001b[0m\n\u001b[0;31mSyntaxError\u001b[0m\u001b[0;31m:\u001b[0m invalid syntax\n"
     ]
    }
   ],
   "source": [
    "student = {'first_name': 'Abdul', \n",
    "           'last_name': 'Sharif',\n",
    "           'username': 'asharif',\n",
    "          'password': 'redhat',\n",
    "          'status': False,\n",
    "          'classes': ['python','terraform','ansible']}\n",
    "\n",
    "print(f'#### Information about {student[\"first_name\"]} {student[\"last_name\"]}#####')\n",
    "#print(student['classes'])\n",
    "      \n",
    "print(f'##Username: {student[\"username\"]}')\n",
    "print(f'###Full Name: {student[\"first_name\"]} {student[\"last_name\"]}')\n",
    "      \n",
    "if student['status']:\n",
    "      print('##User can login')\n",
    "else:\n",
    "      print('## user can not login')\n",
    "      \n",
    "if 'python' in student['classes']:\n",
    "      print(f'## user is attends python class')\n",
    "if 'terraform' in student['classes']\n",
    "      print(f'## user is attends terraform class')\n",
    "if 'ansible' in student['classes']\n",
    "      print(f'## user is attends ansible class')\n",
    "      "
   ]
  },
  {
   "cell_type": "code",
   "execution_count": null,
   "metadata": {},
   "outputs": [],
   "source": []
  }
 ],
 "metadata": {
  "language_info": {
   "codemirror_mode": {
    "name": "ipython",
    "version": 3
   },
   "file_extension": ".py",
   "mimetype": "text/x-python",
   "name": "python",
   "nbconvert_exporter": "python",
   "pygments_lexer": "ipython3",
   "version": "3.6.5"
  }
 },
 "nbformat": 4,
 "nbformat_minor": 2
}
